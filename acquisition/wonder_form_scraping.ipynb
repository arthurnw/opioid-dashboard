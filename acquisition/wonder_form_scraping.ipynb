{
 "cells": [
  {
   "cell_type": "markdown",
   "metadata": {
    "toc": true
   },
   "source": [
    "<h1>Table of Contents<span class=\"tocSkip\"></span></h1>\n",
    "<div class=\"toc\"><ul class=\"toc-item\"><li><span><a href=\"#To-dos\" data-toc-modified-id=\"To-dos-1\">To dos</a></span></li><li><span><a href=\"#POST-Forms\" data-toc-modified-id=\"POST-Forms-2\">POST Forms</a></span></li><li><span><a href=\"#Finding-our-form-data\" data-toc-modified-id=\"Finding-our-form-data-3\">Finding our form data</a></span></li><li><span><a href=\"#Sending-data-with-the-form-request\" data-toc-modified-id=\"Sending-data-with-the-form-request-4\">Sending data with the form request</a></span></li><li><span><a href=\"#Sending-headers-with-your-request\" data-toc-modified-id=\"Sending-headers-with-your-request-5\">Sending headers with your request</a></span><ul class=\"toc-item\"><li><span><a href=\"#Pretending-to-be-the-browser\" data-toc-modified-id=\"Pretending-to-be-the-browser-5.1\">Pretending to be the browser</a></span></li><li><span><a href=\"#Finding-the-appropriate-headers\" data-toc-modified-id=\"Finding-the-appropriate-headers-5.2\">Finding the appropriate headers</a></span></li></ul></li><li><span><a href=\"#Identifying-a-session-ID\" data-toc-modified-id=\"Identifying-a-session-ID-6\">Identifying a session ID</a></span></li><li><span><a href=\"#Downloading-an-attachment-from-the-response\" data-toc-modified-id=\"Downloading-an-attachment-from-the-response-7\">Downloading an attachment from the response</a></span></li></ul></div>"
   ]
  },
  {
   "cell_type": "markdown",
   "metadata": {},
   "source": [
    "## To dos\n",
    "* Add code to modify file name based on parameters (all files are named `\"Multiple Cause of Death, 1999-2017.txt\"` by default) - this could be extracted from the form data dictionary\n",
    "* Add failure logic when there's no attachment (i.e. when the response has a 200 status but actually failed)\n",
    "* Add other failure logic"
   ]
  },
  {
   "cell_type": "markdown",
   "metadata": {},
   "source": [
    "This notebook is adapted from http://jonathansoma.com/lede/foundations-2017/classes/adv-scraping/advanced-scraping-form-submission/."
   ]
  },
  {
   "cell_type": "code",
   "execution_count": 1,
   "metadata": {},
   "outputs": [],
   "source": [
    "import requests\n",
    "import re"
   ]
  },
  {
   "cell_type": "markdown",
   "metadata": {},
   "source": [
    "## POST Forms\n",
    "\n",
    "But for most forms, though, it isn't that easy. You type in your info, you click \"Search\", and *there's nothing in the URL.* For example, try searching at [California's Engineer License Database](http://www2.dca.ca.gov/pls/wllpub/wllqryna$lcev2.startup?p_qte_code=ENG&p_qte_pgm_code=7500).\n",
    "\n",
    "The URL you end up at is something like `http://www2.dca.ca.gov/pls/wllpub/WLLQRYNA$LCEV2.ActionQuery`, which doesn't mean *anything*. No parameters in that query string!\n",
    "\n",
    "If you search through the browser you see a lot of table rows, but if you try it in Python it doesn't give you anything."
   ]
  },
  {
   "cell_type": "markdown",
   "metadata": {},
   "source": [
    "## Finding our form data"
   ]
  },
  {
   "cell_type": "markdown",
   "metadata": {},
   "source": [
    "When we clicked \"Search,\" it also sent the server a bunch of data - all of the options we typed in, or the dropdowns we selected. Here are the steps to find out what data needs to be sent along with your request.\n",
    "\n",
    "We're going to use Chrome's **Network tools** to analyze all of the requests our browser sends to the server, then imitate them in Python.\n",
    "\n",
    "1. Open up **Developer Tools** in Chrome by selecting `View > Developer > Developer Tools`.\n",
    "2. Select the **Network Tab**\n",
    "3. Visit the page you're going to do your search from\n",
    "4. Click the **Clear** button up top - 🚫 - then submit your form\n",
    "5. The Network tab will fill with activity!\n",
    "6. Find the thing in the Network tab that looks like the same name as your webpage. Click it.\n",
    "7. On the right-hand side you get a new pane. If you scroll allllll the way down it lists **Form Data**.\n",
    "\n",
    "This **Form Data** is what we need to send along with our request. We just need to convert it to a dictionary and send it along."
   ]
  },
  {
   "cell_type": "markdown",
   "metadata": {},
   "source": [
    "## Sending data with the form request\n",
    "\n",
    "Once we've converted our form data into a dictionary, we need to make sure of two things:\n",
    "\n",
    "1. We're using `requests.post` to make our request\n",
    "2. We're sending the form data with the request\n",
    "\n",
    "Normal browser requests are sent as `GET` requests, but these very fancy ones are sent as `POST`. `POST` just means \"hey I'm sending extra data along with this.\""
   ]
  },
  {
   "cell_type": "code",
   "execution_count": 2,
   "metadata": {},
   "outputs": [],
   "source": [
    "# This is pasted from the Form Data section of the Network tab's Headers section\n",
    "\n",
    "data = {\n",
    "'dataset_code': 'D77',\n",
    "'dataset_label': 'Multiple Cause of Death, 1999-2017',\n",
    "'dataset_vintage': '2017',\n",
    "'stage': 'request',\n",
    "'O_javascript': 'on',\n",
    "'M_1': 'D77.M1',\n",
    "'M_2': 'D77.M2',\n",
    "'M_3': 'D77.M3',\n",
    "'O_aar': 'aar_none',\n",
    "'B_1': 'D77.V9-level2',\n",
    "'B_2': 'D77.V5',\n",
    "'B_3': 'D77.V8',\n",
    "'B_4': 'D77.V2-level3',\n",
    "'B_5': 'D77.V13-level3',\n",
    "'O_title': '',\n",
    "'O_oc-sect1-request': 'close',\n",
    "'O_rate_per': '100000',\n",
    "'O_aar_pop': '0000',\n",
    "'VM_D77.M6_D77.V1_S': '*All*',\n",
    "'VM_D77.M6_D77.V7': '*All*',\n",
    "'VM_D77.M6_D77.V17': '*All*',\n",
    "'VM_D77.M6_D77.V8': '*All*',\n",
    "'VM_D77.M6_D77.V10': '',\n",
    "'O_location': 'D77.V9',\n",
    "'finder-stage-D77.V9': 'codeset',\n",
    "'O_V9_fmode': 'freg',\n",
    "'V_D77.V9': '',\n",
    "'F_D77.V9': '01',\n",
    "'I_D77.V9': '01 (Alabama)',\n",
    "'finder-stage-D77.V10': 'codeset',\n",
    "'O_V10_fmode': 'freg',\n",
    "'V_D77.V10': '',\n",
    "'F_D77.V10': '*All*',\n",
    "'I_D77.V10': '*All* (The United States)',\n",
    "'finder-stage-D77.V27': 'codeset',\n",
    "'O_V27_fmode': 'freg',\n",
    "'V_D77.V27': '',\n",
    "'F_D77.V27': '*All*',\n",
    "'I_D77.V27': '*All* (The United States)',\n",
    "'O_urban': 'D77.V19',\n",
    "'V_D77.V19': '*All*',\n",
    "'V_D77.V11': '*All*',\n",
    "'O_age': 'D77.V5',\n",
    "'V_D77.V5': '*All*',\n",
    "'V_D77.V51': '*All*',\n",
    "'V_D77.V52': '*All*',\n",
    "'V_D77.V6': '00',\n",
    "'V_D77.V7': 'M',\n",
    "'V_D77.V17': '*All*',\n",
    "'V_D77.V8': '*All*',\n",
    "'finder-stage-D77.V1': 'codeset',\n",
    "'O_V1_fmode': 'freg',\n",
    "'V_D77.V1': '',\n",
    "'F_D77.V1': '2015',\n",
    "'I_D77.V1': '2015 (2015)',\n",
    "'V_D77.V24': '*All*',\n",
    "'V_D77.V20': '*All*',\n",
    "'V_D77.V21': '*All*',\n",
    "'O_ucd': 'D77.V2',\n",
    "'finder-stage-D77.V2': 'codeset',\n",
    "'O_V2_fmode': 'freg',\n",
    "'V_D77.V2': '',\n",
    "'F_D77.V2': '*All*',\n",
    "'I_D77.V2': '*All* (All Causes of Death)',\n",
    "'V_D77.V4': '*All*',\n",
    "'V_D77.V12': '*All*',\n",
    "'V_D77.V22': '*All*',\n",
    "'V_D77.V23': '*All*',\n",
    "'finder-stage-D77.V25': 'codeset',\n",
    "'O_V25_fmode': 'freg',\n",
    "'V_D77.V25': '',\n",
    "'F_D77.V25': '*All*',\n",
    "'I_D77.V25': 'All Causes of Death',\n",
    "'O_mcd': 'D77.V13',\n",
    "'finder-stage-D77.V13': 'codeset',\n",
    "'O_V13_fmode': 'fadv',\n",
    "'V_D77.V13': '',\n",
    "'V_D77.V13_AND': '',\n",
    "'F_D77.V13': '*All*',\n",
    "'finder-stage-D77.V15': '',\n",
    "'O_V15_fmode': 'fadv',\n",
    "'V_D77.V15': '',\n",
    "'V_D77.V15_AND': '',\n",
    "'L_D77.V15': '*All*',\n",
    "'finder-stage-D77.V16': '',\n",
    "'O_V16_fmode': 'fadv',\n",
    "'V_D77.V16': '',\n",
    "'V_D77.V16_AND': '',\n",
    "'L_D77.V16': '*All*',\n",
    "'finder-stage-D77.V26': 'codeset',\n",
    "'O_V26_fmode': 'fadv',\n",
    "'V_D77.V26': '',\n",
    "'V_D77.V26_AND': '',\n",
    "'F_D77.V26': '*All*',\n",
    "'O_change_action-Send-Export Results': 'Export Results',\n",
    "'O_precision': '1',\n",
    "'O_timeout': '600',\n",
    "'action-Send': 'Send'\n",
    "}"
   ]
  },
  {
   "attachments": {},
   "cell_type": "markdown",
   "metadata": {},
   "source": [
    "The group-by options (`B_1` through `B_5`) are pictured below."
   ]
  },
  {
   "attachments": {
    "image.png": {
     "image/png": "[encoded data removed]"
    }
   },
   "cell_type": "markdown",
   "metadata": {},
   "source": [
    "![image.png](attachment:image.png)"
   ]
  },
  {
   "cell_type": "markdown",
   "metadata": {},
   "source": [
    "The example form data also filters to Alabama, Male, 2015:\n",
    "\n",
    "* Alabama\n",
    "    * `'F_D77.V9': '01'`\n",
    "    * `'I_D77.V9': '01 (Alabama)'`\n",
    "* 2015\n",
    "    * `'F_D77.V1': '2015'`\n",
    "    * `'I_D77.V1': '2015 (2015)'`\n",
    "* Male\n",
    "    * `'V_D77.V7': 'M'`"
   ]
  },
  {
   "cell_type": "markdown",
   "metadata": {},
   "source": [
    "## Sending headers with your request\n",
    "\n",
    "Sometimes that isn't enough! Some web servers check to make sure you're a real browser, or you came from their site, or other stuff like that.\n",
    "\n",
    "When you send a request, you also send thing called \"Headers.\" You can see the headers inside of the same Network tab part where you found Form Data. It's listed as **Request Headers** - *ignore the response headers*.\n",
    "\n",
    "### Pretending to be the browser\n",
    "\n",
    "The most common thing you'll need to do is impersonate a browser by sending a `User-Agent` string."
   ]
  },
  {
   "cell_type": "markdown",
   "metadata": {},
   "source": [
    "### Finding the appropriate headers\n",
    "\n",
    "Sometimes pretending to be the browser just isn't enough. If you want to 100% imitate your browser when sending a request, you need to copy aaaaalllll of the headers from the request.\n",
    "\n",
    "It's just above the Form Data information, but I'll tell you how to find it again just to be sure:\n",
    "\n",
    "1. Open up **Developer Tools** in Chrome by selecting `View > Developer > Developer Tools`.\n",
    "2. Select the **Network Tab**\n",
    "3. Visit the page you're going to do your search from\n",
    "4. Click the **Clear** button up top - 🚫 - then submit your form\n",
    "5. The Network tab will fill with activity!\n",
    "6. Find the thing in the Network tab that looks like the same name as your webpage. Click it.\n",
    "7. On the right-hand side you get a new pane. If you scroll near to the bottom it shows you **Request Headers**.\n",
    "\n",
    "You just need to convert these into a dictionary, and send them along with your request."
   ]
  },
  {
   "cell_type": "code",
   "execution_count": 3,
   "metadata": {},
   "outputs": [],
   "source": [
    "# Here are all of our headers\n",
    "headers = {\n",
    "'Accept': 'text/html,application/xhtml+xml,application/xml;q=0.9,image/webp,image/apng,*/*;q=0.8,application/signed-exchange;v=b3',\n",
    "'Accept-Encoding': 'gzip, deflate, br',\n",
    "'Accept-Language': 'en-US,en;q=0.9,ru;q=0.8',\n",
    "'Cache-Control': 'max-age=0',\n",
    "'Connection': 'keep-alive',\n",
    "'Content-Length': '1846',\n",
    "'Content-Type': 'application/x-www-form-urlencoded',\n",
    "'Cookie': 's_fid=4462B5BDCB3B8F57-1419BC1F65A8E073; _ga=GA1.3.2116417692.1569546073; _ga=GA1.2.558629946.1569855020; _4c_=XVRdb9owFP0rUx761Hw4ie0EqZog0EJVSksyVesLSmxDPEISJYaMVfz32cGwrrxw7vG5Hzb38GF0OSuNAYAYAAQChAFyb40tO7bG4MNoOFVfB2NgYMZc5pDQdAHBph8AaGbU8UwfrUnm4TQjKTBujd99LYw84LiOh%2BHp1qDlpUbDKGv5pvykgzgIYeh4UscvsvTLOXKAK8%2BbTguuBxiG%2BH%2BpYqSU1Fr6YeybQpbMhajbgW13XWcRSqxNdbBLkrd2eWhbmx7aFU1FumpYwdKWWbnYyRlIRZnMBaHlWUjG4o%2BMTN91JK6biu6JWIljrTQdy761dCsPKDtwwlYdpyLvk3u5ZnPGN7lQtBP0dN2oQKKOl7TqvqZp9poWeliySVUnnKnMnzJaxJOnWGIFh%2BPojO6L%2FRk8R9NpnLycg1n5a98cdd7kZXlmo2q325dcHB%2F2vL%2Bw4vKmKjnR0udothxf8eR9Ntb94uQp0b0fiipLiylLi%2F4Ckhkm8Xh5mWIy1flxnZa81ZL5%2FG2p%2BRFvRD5ma0ZEq5Nmi3iqG71ML9MuosVCJ89ijR6rTOe88216RllTdW3%2FSOouO%2FYNq6erlO6tf9VWho3s1zS9SkYtF%2Br6ej80Ia1w5lTvebJcjSbDaPH8aaeUHgDXcitslUzYmS1XSpJqx4D9GJuu5ViO3SLoIwh9F4Y%2BBuH34evoDtysOb3zfeSO4GgcjbxRcA%2BxCXwQjiJwj%2BAwmDjYuxm%2BTu7UltTKHq4nUVGRtFDTMuWmh%2BHqR%2F%2BjQBggNwx9ZAGIwgBCp9%2BjpOGbDWvmTOSVdLSMU8oFr8q0MM4G%2FexNqlZNRltR1Vf6dDEacP3ARb7vAekIIc0VIN9RH6k4XD3ssMAhOPPMEHlr0wdwbYYEEJPCdegwyORo%2F2wu%2F3o8JEu6vi4JgnPF0%2Bkv; _gid=GA1.3.194714825.1571799780; s_vnum=1572591600430%26vn%3D12; s_invisit=true; s_lv_s=Less%20than%201%20day; s_visit=1; s_cc=true; gpv_v45=Multiple%20Cause%20of%20Death%2C%201999-2017%20Request%20Form; TS0121a97c=015d0abe87ce49e0c460156cb8fcfc1bbc4821eb32fa06765a764a225cbbb5de9c4fdd9d6daf0994aba0eb329c2441aeadded53f1e831e73523fb2527dcf1eb6df289db6a0; gpv_c54=https%3A%2F%2Fwonder.cdc.gov%2Fcontroller%2Fdatarequest%2FD77%3Bjsessionid%3D08630FAA4A1B4D53E5F6BC9FD4F08A2E; s_ppvl=Multiple%2520Cause%2520of%2520Death%252C%25201999-2017%2520Request%2520Form%2C23%2C100%2C4118%2C1920%2C937%2C1920%2C1080%2C1%2CL; s_ptc=0.00%5E%5E0.00%5E%5E0.00%5E%5E0.00%5E%5E7.10%5E%5E0.65%5E%5E1.06%5E%5E0.02%5E%5E8.20; s_ppv=Multiple%2520Cause%2520of%2520Death%252C%25201999-2017%2520Request%2520Form%2C22%2C100%2C4189%2C1920%2C937%2C1920%2C1080%2C1%2CL; s_tps=136; s_pvs=143; s_lv=1571837586026; s_sq=cdcgov%3D%2526pid%253DMultiple%252520Cause%252520of%252520Death%25252C%2525201999-2017%252520Request%252520Form%2526pidt%253D1%2526oid%253Dfunctiononclick%252528event%252529%25257BsubmitSet%252528this%252529%25253B%25257D%2526oidt%253D2%2526ot%253DSUBMIT',\n",
    "'DNT': '1',\n",
    "'Host': 'wonder.cdc.gov',\n",
    "'Origin': 'https://wonder.cdc.gov',\n",
    "'Referer': 'https://wonder.cdc.gov/controller/datarequest/D77;jsessionid=08630FAA4A1B4D53E5F6BC9FD4F08A2E',\n",
    "'Sec-Fetch-Mode': 'navigate',\n",
    "'Sec-Fetch-Site': 'same-origin',\n",
    "'Sec-Fetch-User': '?1',\n",
    "'Upgrade-Insecure-Requests': '1',\n",
    "'User-Agent': 'Mozilla/5.0 (Windows NT 10.0; Win64; x64) AppleWebKit/537.36 (KHTML, like Gecko) Chrome/77.0.3865.120 Safari/537.36',\n",
    "}"
   ]
  },
  {
   "cell_type": "markdown",
   "metadata": {},
   "source": [
    "## Identifying a session ID\n",
    "For CDC WONDER, make sure to launch the page manually; you'll get prompted to click \"I Agree\". This generates a unique session ID, which allows you to send requests.\n",
    "\n",
    "Your **actual** request URL has this session ID in it. Here's how to find it:\n",
    "1. Open up the **Developer Tools**\n",
    "2. Select the **Network Tab**\n",
    "3. At the very top, under **General**, copy the **Request URL**\n",
    "\n",
    "For example, this is a request URL: `https://wonder.cdc.gov/controller/datarequest/D77;jsessionid=08630FAA4A1B4D53E5F6BC9FD4F08A2E`"
   ]
  },
  {
   "cell_type": "code",
   "execution_count": 4,
   "metadata": {},
   "outputs": [],
   "source": [
    "# Replace below with your own session\n",
    "# I'm not sure how long the session is good for\n",
    "url = 'https://wonder.cdc.gov/controller/datarequest/D77;jsessionid=9A5F5052574EB5A98BB20586DA4A784A'"
   ]
  },
  {
   "cell_type": "markdown",
   "metadata": {},
   "source": [
    "## Downloading an attachment from the response\n",
    "The final thing we'll need to do is download a file. The response is going to be an attachment in the form of `response.content`.\n",
    "\n",
    "The code below parses the response header's `content-disposition` item for the text `filename`, finds the file name that follows, then writes the response content with that file name."
   ]
  },
  {
   "cell_type": "code",
   "execution_count": 5,
   "metadata": {},
   "outputs": [
    {
     "data": {
      "text/plain": [
       "54196"
      ]
     },
     "execution_count": 5,
     "metadata": {},
     "output_type": "execute_result"
    }
   ],
   "source": [
    "# https://www.codementor.io/aviaryan/downloading-files-from-urls-in-python-77q3bs0un\n",
    "\n",
    "def get_filename_from_cd(cd):\n",
    "    \"\"\"\n",
    "    Get filename from content-disposition\n",
    "    \"\"\"\n",
    "    if not cd:\n",
    "        return None\n",
    "    fname = re.findall('filename=(.+)', cd)\n",
    "    if len(fname) == 0:\n",
    "        return None\n",
    "    return fname[0].replace('\"','')\n",
    "\n",
    "# Get the page using .post\n",
    "# send the data and headers\n",
    "response = requests.post(url, data=data, headers=headers)\n",
    "\n",
    "# Identify the file name and write to a file\n",
    "filename = get_filename_from_cd(response.headers.get('content-disposition'))\n",
    "open(filename, 'wb').write(response.content)"
   ]
  },
  {
   "cell_type": "markdown",
   "metadata": {},
   "source": [
    "The file should now exist in the same directory as this notebook."
   ]
  }
 ],
 "metadata": {
  "kernelspec": {
   "display_name": "Python 3",
   "language": "python",
   "name": "python3"
  },
  "language_info": {
   "codemirror_mode": {
    "name": "ipython",
    "version": 3
   },
   "file_extension": ".py",
   "mimetype": "text/x-python",
   "name": "python",
   "nbconvert_exporter": "python",
   "pygments_lexer": "ipython3",
   "version": "3.7.3"
  },
  "toc": {
   "base_numbering": 1,
   "nav_menu": {},
   "number_sections": false,
   "sideBar": false,
   "skip_h1_title": false,
   "title_cell": "Table of Contents",
   "title_sidebar": "Contents",
   "toc_cell": true,
   "toc_position": {},
   "toc_section_display": true,
   "toc_window_display": false
  }
 },
 "nbformat": 4,
 "nbformat_minor": 2
}
