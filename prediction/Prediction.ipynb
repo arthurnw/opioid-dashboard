{
 "cells": [
  {
   "cell_type": "markdown",
   "metadata": {
    "toc": true
   },
   "source": [
    "<h1>Table of Contents<span class=\"tocSkip\"></span></h1>\n",
    "<div class=\"toc\"><ul class=\"toc-item\"><li><span><a href=\"#Setup\" data-toc-modified-id=\"Setup-1\">Setup</a></span></li><li><span><a href=\"#Process-Data\" data-toc-modified-id=\"Process-Data-2\">Process Data</a></span></li><li><span><a href=\"#Exploration\" data-toc-modified-id=\"Exploration-3\">Exploration</a></span></li><li><span><a href=\"#Fitting-the-Model---Linear-Regression---Full-Model\" data-toc-modified-id=\"Fitting-the-Model---Linear-Regression---Full-Model-4\">Fitting the Model - Linear Regression - Full Model</a></span></li><li><span><a href=\"#Fitting-the-Model---Linear-Regression---Subset\" data-toc-modified-id=\"Fitting-the-Model---Linear-Regression---Subset-5\">Fitting the Model - Linear Regression - Subset</a></span></li><li><span><a href=\"#Fitting-the-Model---Random-Forest\" data-toc-modified-id=\"Fitting-the-Model---Random-Forest-6\">Fitting the Model - Random Forest</a></span></li><li><span><a href=\"#Projecting-Feature-Values---Exponential-Smoothing\" data-toc-modified-id=\"Projecting-Feature-Values---Exponential-Smoothing-7\">Projecting Feature Values - Exponential Smoothing</a></span></li><li><span><a href=\"#Generate-Predicted-Response-Using-Projections\" data-toc-modified-id=\"Generate-Predicted-Response-Using-Projections-8\">Generate Predicted Response Using Projections</a></span></li><li><span><a href=\"#Further-Exploration\" data-toc-modified-id=\"Further-Exploration-9\">Further Exploration</a></span></li></ul></div>"
   ]
  },
  {
   "cell_type": "markdown",
   "metadata": {},
   "source": [
    "# Setup"
   ]
  },
  {
   "cell_type": "code",
   "execution_count": 1,
   "metadata": {},
   "outputs": [],
   "source": [
    "import pandas as pd\n",
    "import numpy as np\n",
    "import matplotlib.pyplot as plt\n",
    "import seaborn as sbn\n",
    "from sklearn.model_selection import train_test_split\n",
    "%matplotlib inline"
   ]
  },
  {
   "cell_type": "code",
   "execution_count": 2,
   "metadata": {},
   "outputs": [],
   "source": [
    "# Load data\n",
    "filename = \"input/prediction_input.tab\"  # Replace with public-access S3 bucket later\n",
    "raw_data = pd.read_csv(filename, sep=\"\\t\", dtype={\"fips\": \"str\"})"
   ]
  },
  {
   "cell_type": "code",
   "execution_count": 3,
   "metadata": {},
   "outputs": [
    {
     "data": {
      "text/html": [
       "<div>\n",
       "<style scoped>\n",
       "    .dataframe tbody tr th:only-of-type {\n",
       "        vertical-align: middle;\n",
       "    }\n",
       "\n",
       "    .dataframe tbody tr th {\n",
       "        vertical-align: top;\n",
       "    }\n",
       "\n",
       "    .dataframe thead th {\n",
       "        text-align: right;\n",
       "    }\n",
       "</style>\n",
       "<table border=\"1\" class=\"dataframe\">\n",
       "  <thead>\n",
       "    <tr style=\"text-align: right;\">\n",
       "      <th></th>\n",
       "      <th>fips</th>\n",
       "      <th>county</th>\n",
       "      <th>population</th>\n",
       "      <th>tot_male</th>\n",
       "      <th>tot_female</th>\n",
       "      <th>wa</th>\n",
       "      <th>ba</th>\n",
       "      <th>ia</th>\n",
       "      <th>aa</th>\n",
       "      <th>h</th>\n",
       "      <th>...</th>\n",
       "      <th>year</th>\n",
       "      <th>year_min</th>\n",
       "      <th>year_max</th>\n",
       "      <th>pct_hs_diploma</th>\n",
       "      <th>pct_bachelors</th>\n",
       "      <th>pov_pct</th>\n",
       "      <th>median_hh_inc</th>\n",
       "      <th>unemploy_rate</th>\n",
       "      <th>deaths</th>\n",
       "      <th>deaths_age_adj</th>\n",
       "    </tr>\n",
       "  </thead>\n",
       "  <tbody>\n",
       "    <tr>\n",
       "      <th>0</th>\n",
       "      <td>01001</td>\n",
       "      <td>Autauga County, AL</td>\n",
       "      <td>43900.0</td>\n",
       "      <td>21333.0</td>\n",
       "      <td>22567.0</td>\n",
       "      <td>35584.0</td>\n",
       "      <td>7572.0</td>\n",
       "      <td>210.0</td>\n",
       "      <td>205.0</td>\n",
       "      <td>610.0</td>\n",
       "      <td>...</td>\n",
       "      <td>2000</td>\n",
       "      <td>2000</td>\n",
       "      <td>2005</td>\n",
       "      <td>33.8</td>\n",
       "      <td>18.0</td>\n",
       "      <td>10.9</td>\n",
       "      <td>42013.0</td>\n",
       "      <td>4.0</td>\n",
       "      <td>0.0</td>\n",
       "      <td>0.0</td>\n",
       "    </tr>\n",
       "    <tr>\n",
       "      <th>1</th>\n",
       "      <td>01001</td>\n",
       "      <td>Autauga County, AL</td>\n",
       "      <td>54754.0</td>\n",
       "      <td>26670.0</td>\n",
       "      <td>28084.0</td>\n",
       "      <td>43409.0</td>\n",
       "      <td>9743.0</td>\n",
       "      <td>250.0</td>\n",
       "      <td>497.0</td>\n",
       "      <td>1308.0</td>\n",
       "      <td>...</td>\n",
       "      <td>2010</td>\n",
       "      <td>2006</td>\n",
       "      <td>2011</td>\n",
       "      <td>85.0</td>\n",
       "      <td>21.8</td>\n",
       "      <td>10.3</td>\n",
       "      <td>51463.0</td>\n",
       "      <td>9.7</td>\n",
       "      <td>1.0</td>\n",
       "      <td>1.0</td>\n",
       "    </tr>\n",
       "    <tr>\n",
       "      <th>2</th>\n",
       "      <td>01001</td>\n",
       "      <td>Autauga County, AL</td>\n",
       "      <td>55443.0</td>\n",
       "      <td>27017.0</td>\n",
       "      <td>28426.0</td>\n",
       "      <td>42568.0</td>\n",
       "      <td>10828.0</td>\n",
       "      <td>259.0</td>\n",
       "      <td>698.0</td>\n",
       "      <td>1584.0</td>\n",
       "      <td>...</td>\n",
       "      <td>2017</td>\n",
       "      <td>2012</td>\n",
       "      <td>2017</td>\n",
       "      <td>33.6</td>\n",
       "      <td>25.0</td>\n",
       "      <td>13.7</td>\n",
       "      <td>55317.0</td>\n",
       "      <td>3.9</td>\n",
       "      <td>1.0</td>\n",
       "      <td>1.0</td>\n",
       "    </tr>\n",
       "    <tr>\n",
       "      <th>3</th>\n",
       "      <td>01003</td>\n",
       "      <td>Baldwin County, AL</td>\n",
       "      <td>141404.0</td>\n",
       "      <td>69337.0</td>\n",
       "      <td>72067.0</td>\n",
       "      <td>124134.0</td>\n",
       "      <td>14663.0</td>\n",
       "      <td>834.0</td>\n",
       "      <td>551.0</td>\n",
       "      <td>2512.0</td>\n",
       "      <td>...</td>\n",
       "      <td>2000</td>\n",
       "      <td>2000</td>\n",
       "      <td>2005</td>\n",
       "      <td>29.6</td>\n",
       "      <td>23.1</td>\n",
       "      <td>10.1</td>\n",
       "      <td>40250.0</td>\n",
       "      <td>3.7</td>\n",
       "      <td>44</td>\n",
       "      <td>5.2</td>\n",
       "    </tr>\n",
       "    <tr>\n",
       "      <th>4</th>\n",
       "      <td>01003</td>\n",
       "      <td>Baldwin County, AL</td>\n",
       "      <td>183111.0</td>\n",
       "      <td>89618.0</td>\n",
       "      <td>93493.0</td>\n",
       "      <td>160470.0</td>\n",
       "      <td>17334.0</td>\n",
       "      <td>1330.0</td>\n",
       "      <td>1384.0</td>\n",
       "      <td>8064.0</td>\n",
       "      <td>...</td>\n",
       "      <td>2010</td>\n",
       "      <td>2006</td>\n",
       "      <td>2011</td>\n",
       "      <td>87.5</td>\n",
       "      <td>26.6</td>\n",
       "      <td>11.9</td>\n",
       "      <td>48918.0</td>\n",
       "      <td>9.8</td>\n",
       "      <td>71</td>\n",
       "      <td>7.2</td>\n",
       "    </tr>\n",
       "  </tbody>\n",
       "</table>\n",
       "<p>5 rows × 25 columns</p>\n",
       "</div>"
      ],
      "text/plain": [
       "    fips              county  population  tot_male  tot_female        wa  \\\n",
       "0  01001  Autauga County, AL     43900.0   21333.0     22567.0   35584.0   \n",
       "1  01001  Autauga County, AL     54754.0   26670.0     28084.0   43409.0   \n",
       "2  01001  Autauga County, AL     55443.0   27017.0     28426.0   42568.0   \n",
       "3  01003  Baldwin County, AL    141404.0   69337.0     72067.0  124134.0   \n",
       "4  01003  Baldwin County, AL    183111.0   89618.0     93493.0  160470.0   \n",
       "\n",
       "        ba      ia      aa       h  ...  year  year_min  year_max  \\\n",
       "0   7572.0   210.0   205.0   610.0  ...  2000      2000      2005   \n",
       "1   9743.0   250.0   497.0  1308.0  ...  2010      2006      2011   \n",
       "2  10828.0   259.0   698.0  1584.0  ...  2017      2012      2017   \n",
       "3  14663.0   834.0   551.0  2512.0  ...  2000      2000      2005   \n",
       "4  17334.0  1330.0  1384.0  8064.0  ...  2010      2006      2011   \n",
       "\n",
       "   pct_hs_diploma  pct_bachelors  pov_pct  median_hh_inc  unemploy_rate  \\\n",
       "0            33.8           18.0     10.9        42013.0            4.0   \n",
       "1            85.0           21.8     10.3        51463.0            9.7   \n",
       "2            33.6           25.0     13.7        55317.0            3.9   \n",
       "3            29.6           23.1     10.1        40250.0            3.7   \n",
       "4            87.5           26.6     11.9        48918.0            9.8   \n",
       "\n",
       "   deaths  deaths_age_adj  \n",
       "0     0.0             0.0  \n",
       "1     1.0             1.0  \n",
       "2     1.0             1.0  \n",
       "3      44             5.2  \n",
       "4      71             7.2  \n",
       "\n",
       "[5 rows x 25 columns]"
      ]
     },
     "execution_count": 3,
     "metadata": {},
     "output_type": "execute_result"
    }
   ],
   "source": [
    "raw_data.head()"
   ]
  },
  {
   "cell_type": "code",
   "execution_count": 4,
   "metadata": {},
   "outputs": [
    {
     "data": {
      "text/plain": [
       "(9441, 25)"
      ]
     },
     "execution_count": 4,
     "metadata": {},
     "output_type": "execute_result"
    }
   ],
   "source": [
    "raw_data.shape"
   ]
  },
  {
   "cell_type": "markdown",
   "metadata": {},
   "source": [
    "# Process Data"
   ]
  },
  {
   "cell_type": "code",
   "execution_count": 5,
   "metadata": {},
   "outputs": [],
   "source": [
    "data = raw_data.copy()\n",
    "data = data.replace(\"Missing\", np.nan).replace(\"Unreliable\", np.nan)\n",
    "data.dropna(inplace=True)"
   ]
  },
  {
   "cell_type": "code",
   "execution_count": 6,
   "metadata": {},
   "outputs": [
    {
     "data": {
      "text/plain": [
       "fips               object\n",
       "county             object\n",
       "population        float64\n",
       "tot_male          float64\n",
       "tot_female        float64\n",
       "wa                float64\n",
       "ba                float64\n",
       "ia                float64\n",
       "aa                float64\n",
       "h                 float64\n",
       "age_grp_4         float64\n",
       "age_grp_5         float64\n",
       "age_grp_6         float64\n",
       "age_grp_7         float64\n",
       "age_grp_8         float64\n",
       "year                int64\n",
       "year_min            int64\n",
       "year_max            int64\n",
       "pct_hs_diploma    float64\n",
       "pct_bachelors     float64\n",
       "pov_pct           float64\n",
       "median_hh_inc     float64\n",
       "unemploy_rate     float64\n",
       "deaths            float64\n",
       "deaths_age_adj    float64\n",
       "dtype: object"
      ]
     },
     "execution_count": 6,
     "metadata": {},
     "output_type": "execute_result"
    }
   ],
   "source": [
    "# Convert columns to float\n",
    "data = data.astype({\"deaths\": \"float64\", \"deaths_age_adj\": \"float64\", \"population\": \"float64\"})\n",
    "data.dtypes"
   ]
  },
  {
   "cell_type": "code",
   "execution_count": 7,
   "metadata": {},
   "outputs": [],
   "source": [
    "# Generate percentage variables\n",
    "vars_to_convert = {\n",
    "    \"tot_male\": \"pct_male\",\n",
    "    \"tot_female\": \"pct_female\",\n",
    "    \"wa\": \"pct_white\",\n",
    "    \"ba\": \"pct_black\",\n",
    "    \"ia\": \"pct_aina\",  # American Indian/Alaskan Native\n",
    "    \"aa\": \"pct_apia\",  # Asian/Pacific Islander\n",
    "    \"h\": \"pct_hispanic\",\n",
    "    \"age_grp_4\": \"pct_15_19\",\n",
    "    \"age_grp_5\": \"pct_20_24\",\n",
    "    \"age_grp_6\": \"pct_25_29\",\n",
    "    \"age_grp_7\": \"pct_30_34\",\n",
    "    \"age_grp_8\": \"pct_35_39\"\n",
    "}\n",
    "\n",
    "for old_var, new_var in vars_to_convert.items():\n",
    "    data[new_var] = data[old_var] / data[\"population\"]\n",
    "\n",
    "# Add a grouped age bucket for 20-29 (research indicates vulnerability to opioid addiction)\n",
    "data[\"age_25_39\"] = data[\"age_grp_6\"] + data[\"age_grp_7\"] + data[\"age_grp_8\"]\n",
    "data[\"pct_25_39\"] = data[\"age_25_39\"] / data[\"population\"]"
   ]
  },
  {
   "cell_type": "code",
   "execution_count": 8,
   "metadata": {},
   "outputs": [],
   "source": [
    "# Convert existing percentages to actual percentages\n",
    "vars_to_scale = [\"pct_hs_diploma\", \"pct_bachelors\", \"pov_pct\", \"unemploy_rate\"]\n",
    "for var in vars_to_scale:\n",
    "    data[var] = data[var] / 100.0\n",
    "\n",
    "# Convert deaths to mean death rate (over 6 years), calculated as deaths per 100,000 (CDC methodology)\n",
    "# https://www-doh.state.nj.us/doh-shad/view/sharedstatic/CrudeDeathRate.pdf\n",
    "data[\"mean_deaths\"] = data[\"deaths\"] / 6\n",
    "data[\"death_rate\"] = data[\"mean_deaths\"] / data[\"population\"] * 100000"
   ]
  },
  {
   "cell_type": "code",
   "execution_count": 9,
   "metadata": {},
   "outputs": [],
   "source": [
    "# Drop old count columns\n",
    "data.drop([\"tot_male\", \"tot_female\", \"wa\", \"ba\", \"ia\", \"aa\", \"h\",\n",
    "           \"age_grp_4\", \"age_grp_5\", \"age_grp_6\", \"age_grp_7\", \"age_grp_8\", \"age_25_39\"], axis=1, inplace=True)"
   ]
  },
  {
   "cell_type": "code",
   "execution_count": 10,
   "metadata": {},
   "outputs": [
    {
     "data": {
      "text/plain": [
       "Index(['fips', 'county', 'population', 'year', 'year_min', 'year_max',\n",
       "       'pct_hs_diploma', 'pct_bachelors', 'pov_pct', 'median_hh_inc',\n",
       "       'unemploy_rate', 'deaths', 'deaths_age_adj', 'pct_male', 'pct_female',\n",
       "       'pct_white', 'pct_black', 'pct_aina', 'pct_apia', 'pct_hispanic',\n",
       "       'pct_15_19', 'pct_20_24', 'pct_25_29', 'pct_30_34', 'pct_35_39',\n",
       "       'pct_25_39', 'mean_deaths', 'death_rate'],\n",
       "      dtype='object')"
      ]
     },
     "execution_count": 10,
     "metadata": {},
     "output_type": "execute_result"
    }
   ],
   "source": [
    "data.columns"
   ]
  },
  {
   "cell_type": "code",
   "execution_count": 11,
   "metadata": {},
   "outputs": [
    {
     "data": {
      "text/plain": [
       "(8115, 28)"
      ]
     },
     "execution_count": 11,
     "metadata": {},
     "output_type": "execute_result"
    }
   ],
   "source": [
    "data.shape"
   ]
  },
  {
   "cell_type": "markdown",
   "metadata": {},
   "source": [
    "# Exploration"
   ]
  },
  {
   "cell_type": "code",
   "execution_count": 12,
   "metadata": {},
   "outputs": [
    {
     "data": {
      "text/plain": [
       "fips                           01001\n",
       "county            Autauga County, AL\n",
       "population                     43900\n",
       "year                            2000\n",
       "year_min                        2000\n",
       "year_max                        2005\n",
       "pct_hs_diploma                 0.338\n",
       "pct_bachelors                   0.18\n",
       "pov_pct                        0.109\n",
       "median_hh_inc                  42013\n",
       "unemploy_rate                   0.04\n",
       "deaths                             0\n",
       "deaths_age_adj                     0\n",
       "pct_male                    0.485945\n",
       "pct_female                  0.514055\n",
       "pct_white                   0.810569\n",
       "pct_black                   0.172483\n",
       "pct_aina                   0.0047836\n",
       "pct_apia                   0.0046697\n",
       "pct_hispanic               0.0138952\n",
       "pct_15_19                  0.0743052\n",
       "pct_20_24                  0.0541913\n",
       "pct_25_29                   0.061344\n",
       "pct_30_34                  0.0692483\n",
       "pct_35_39                  0.0910023\n",
       "pct_25_39                   0.221595\n",
       "mean_deaths                        0\n",
       "death_rate                         0\n",
       "Name: 0, dtype: object"
      ]
     },
     "execution_count": 12,
     "metadata": {},
     "output_type": "execute_result"
    }
   ],
   "source": [
    "data.loc[0, :]"
   ]
  },
  {
   "cell_type": "code",
   "execution_count": 13,
   "metadata": {
    "scrolled": false
   },
   "outputs": [],
   "source": [
    "# sbn.pairplot(data.iloc[:, pd.np.r_[-2, 2, 18:23]])"
   ]
  },
  {
   "cell_type": "code",
   "execution_count": 14,
   "metadata": {
    "scrolled": false
   },
   "outputs": [],
   "source": [
    "# sbn.pairplot(data.iloc[:, pd.np.r_[-2, 24:31]])"
   ]
  },
  {
   "cell_type": "code",
   "execution_count": 15,
   "metadata": {
    "scrolled": false
   },
   "outputs": [],
   "source": [
    "# sbn.pairplot(data.iloc[:, pd.np.r_[-2, 31:38, 41]])"
   ]
  },
  {
   "cell_type": "code",
   "execution_count": 16,
   "metadata": {},
   "outputs": [
    {
     "name": "stdout",
     "output_type": "stream",
     "text": [
      "0 fips\n",
      "1 county\n",
      "2 population\n",
      "3 year\n",
      "4 year_min\n",
      "5 year_max\n",
      "6 pct_hs_diploma\n",
      "7 pct_bachelors\n",
      "8 pov_pct\n",
      "9 median_hh_inc\n",
      "10 unemploy_rate\n",
      "11 deaths\n",
      "12 deaths_age_adj\n",
      "13 pct_male\n",
      "14 pct_female\n",
      "15 pct_white\n",
      "16 pct_black\n",
      "17 pct_aina\n",
      "18 pct_apia\n",
      "19 pct_hispanic\n",
      "20 pct_15_19\n",
      "21 pct_20_24\n",
      "22 pct_25_29\n",
      "23 pct_30_34\n",
      "24 pct_35_39\n",
      "25 pct_25_39\n",
      "26 mean_deaths\n",
      "27 death_rate\n"
     ]
    }
   ],
   "source": [
    "# Get list of variables\n",
    "for i, x in enumerate(data.columns):\n",
    "    print(i, x)"
   ]
  },
  {
   "cell_type": "code",
   "execution_count": 17,
   "metadata": {},
   "outputs": [
    {
     "data": {
      "text/plain": [
       "<matplotlib.axes._subplots.AxesSubplot at 0x21028b76e80>"
      ]
     },
     "execution_count": 17,
     "metadata": {},
     "output_type": "execute_result"
    },
    {
     "data": {
      "image/png": "[encoded data removed]",
      "text/plain": [
       "<Figure size 792x648 with 2 Axes>"
      ]
     },
     "metadata": {
      "needs_background": "light"
     },
     "output_type": "display_data"
    }
   ],
   "source": [
    "corr = data.iloc[:, :].corr()\n",
    "mask = np.zeros_like(corr, dtype=np.bool)\n",
    "mask[np.triu_indices_from(mask)] = True\n",
    "\n",
    "f, ax = plt.subplots(figsize=(11,9))\n",
    "cmap = sbn.diverging_palette(220, 10, as_cmap=True)\n",
    "\n",
    "sbn.heatmap(corr, mask=mask, cmap=cmap, vmax=0.3, center=0, square=True, linewidths=0.5, cbar_kws={\"shrink\": 0.5})"
   ]
  },
  {
   "cell_type": "code",
   "execution_count": 18,
   "metadata": {},
   "outputs": [],
   "source": [
    "corr.to_csv(\"correlation.csv\")"
   ]
  },
  {
   "cell_type": "markdown",
   "metadata": {},
   "source": [
    "# Fitting the Model - Linear Regression - Full Model"
   ]
  },
  {
   "cell_type": "code",
   "execution_count": 19,
   "metadata": {},
   "outputs": [],
   "source": [
    "response_var = \"death_rate\"  # Change to \"deaths_age_adj\" for prediction of age-adjusted rate"
   ]
  },
  {
   "cell_type": "code",
   "execution_count": 20,
   "metadata": {},
   "outputs": [],
   "source": [
    "from sklearn.linear_model import LinearRegression"
   ]
  },
  {
   "cell_type": "code",
   "execution_count": 21,
   "metadata": {},
   "outputs": [
    {
     "data": {
      "text/plain": [
       "Index(['population', 'pct_hs_diploma', 'pct_bachelors', 'pov_pct',\n",
       "       'median_hh_inc', 'unemploy_rate', 'pct_male', 'pct_female', 'pct_white',\n",
       "       'pct_black', 'pct_aina', 'pct_apia', 'pct_hispanic', 'pct_15_19',\n",
       "       'pct_20_24', 'pct_25_29', 'pct_30_34', 'pct_35_39', 'pct_25_39'],\n",
       "      dtype='object')"
      ]
     },
     "execution_count": 21,
     "metadata": {},
     "output_type": "execute_result"
    }
   ],
   "source": [
    "# Remove non-feature columns\n",
    "non_feature_columns = [\"fips\", \"county\", \"year\", \"year_min\", \"year_max\",\n",
    "                       \"mean_deaths\", \"death_rate\", \"deaths\", \"deaths_age_adj\"]\n",
    "features = [col for col in data.columns.tolist() if col not in non_feature_columns]\n",
    "X = data[features]\n",
    "y = data[response_var]\n",
    "X.columns"
   ]
  },
  {
   "cell_type": "code",
   "execution_count": 22,
   "metadata": {},
   "outputs": [],
   "source": [
    "X_train, X_test, y_train, y_test = train_test_split(X, y, test_size=0.2, random_state=503)"
   ]
  },
  {
   "cell_type": "code",
   "execution_count": 23,
   "metadata": {},
   "outputs": [
    {
     "name": "stdout",
     "output_type": "stream",
     "text": [
      "R^2: 0.21687506797437642\n",
      "RMSE: 5.489126586451944\n"
     ]
    }
   ],
   "source": [
    "linreg_full = LinearRegression()\n",
    "linreg_full.fit(X_train, y_train)\n",
    "print(\"R^2: {0}\".format(linreg_full.score(X_train, y_train)))\n",
    "\n",
    "predictions = linreg_full.predict(X_test)\n",
    "rmse = np.sqrt(np.sum((predictions - y_test)**2)/y_test.shape[0])\n",
    "print(\"RMSE: {0}\".format(rmse))"
   ]
  },
  {
   "cell_type": "markdown",
   "metadata": {},
   "source": [
    "# Fitting the Model - Linear Regression - Subset"
   ]
  },
  {
   "cell_type": "code",
   "execution_count": 24,
   "metadata": {},
   "outputs": [],
   "source": [
    "from sklearn.linear_model import LinearRegression"
   ]
  },
  {
   "cell_type": "code",
   "execution_count": 25,
   "metadata": {},
   "outputs": [],
   "source": [
    "X_train, X_test, y_train, y_test = train_test_split(X, y, test_size=0.2, random_state=503)"
   ]
  },
  {
   "cell_type": "code",
   "execution_count": 26,
   "metadata": {},
   "outputs": [
    {
     "name": "stdout",
     "output_type": "stream",
     "text": [
      "R^2: 0.1506482613226222\n",
      "RMSE: 5.742060547680173\n"
     ]
    }
   ],
   "source": [
    "# Model with only a subset of features\n",
    "feature_subset = ['population', 'pct_male', 'pct_white', 'pct_25_39', 'pct_hs_diploma', 'median_hh_inc',\n",
    "                  'pov_pct', 'unemploy_rate']\n",
    "\n",
    "X_train = X_train[feature_subset]\n",
    "X_test = X_test[feature_subset]\n",
    "\n",
    "linreg = LinearRegression()\n",
    "linreg.fit(X_train, y_train)\n",
    "print(\"R^2: {0}\".format(linreg.score(X_train, y_train)))\n",
    "\n",
    "predictions = linreg.predict(X_test)\n",
    "rmse = np.sqrt(np.sum((predictions - y_test)**2)/y_test.shape[0])\n",
    "print(\"RMSE: {0}\".format(rmse))"
   ]
  },
  {
   "cell_type": "markdown",
   "metadata": {},
   "source": [
    "$RMSE = \\sqrt{\\sum{\\frac{(\\hat{y} - y)^2}{N}}}$"
   ]
  },
  {
   "cell_type": "markdown",
   "metadata": {},
   "source": [
    "# Fitting the Model - Random Forest"
   ]
  },
  {
   "cell_type": "code",
   "execution_count": 27,
   "metadata": {},
   "outputs": [],
   "source": [
    "from sklearn.ensemble import RandomForestRegressor"
   ]
  },
  {
   "cell_type": "code",
   "execution_count": 28,
   "metadata": {},
   "outputs": [
    {
     "data": {
      "text/plain": [
       "Index(['population', 'pct_hs_diploma', 'pct_bachelors', 'pov_pct',\n",
       "       'median_hh_inc', 'unemploy_rate', 'pct_male', 'pct_female', 'pct_white',\n",
       "       'pct_black', 'pct_aina', 'pct_apia', 'pct_hispanic', 'pct_15_19',\n",
       "       'pct_20_24', 'pct_25_29', 'pct_30_34', 'pct_35_39', 'pct_25_39'],\n",
       "      dtype='object')"
      ]
     },
     "execution_count": 28,
     "metadata": {},
     "output_type": "execute_result"
    }
   ],
   "source": [
    "# Pick a subset of columns to feed into random forest\n",
    "non_feature_columns = [\"fips\", \"county\", \"year\", \"year_min\", \"year_max\",\n",
    "                       \"mean_deaths\", \"death_rate\", \"deaths\", \"deaths_age_adj\"]\n",
    "features = [col for col in data.columns.tolist() if col not in non_feature_columns]\n",
    "X = data[features]\n",
    "y = data[response_var]\n",
    "X.columns"
   ]
  },
  {
   "cell_type": "code",
   "execution_count": 29,
   "metadata": {},
   "outputs": [
    {
     "name": "stdout",
     "output_type": "stream",
     "text": [
      "R^2: 0.7772193519269417\n",
      "RMSE: 4.143406948366568\n"
     ]
    }
   ],
   "source": [
    "X_train, X_test, y_train, y_test = train_test_split(X, y, test_size=0.2, random_state=503)\n",
    "rf = RandomForestRegressor(random_state=503,\n",
    "                           min_samples_split=2,\n",
    "                           min_samples_leaf=4,\n",
    "                           max_features=\"sqrt\",\n",
    "                           n_estimators=400,\n",
    "                           bootstrap=True)\n",
    "rf.fit(X_train, y_train)\n",
    "print(\"R^2: {0}\".format(rf.score(X_train, y_train)))\n",
    "\n",
    "\n",
    "predictions = rf.predict(X_test)\n",
    "rmse = np.sqrt(np.sum((predictions - y_test)**2)/y_test.shape[0])\n",
    "print(\"RMSE: {0}\".format(rmse))"
   ]
  },
  {
   "cell_type": "markdown",
   "metadata": {},
   "source": [
    "It appears the random forest has a better RMSE, so we'll use that model."
   ]
  },
  {
   "cell_type": "code",
   "execution_count": 30,
   "metadata": {},
   "outputs": [
    {
     "data": {
      "text/plain": [
       "array([0.22527567, 0.03895513, 0.04315283, 0.0533086 , 0.04047159,\n",
       "       0.03842341, 0.02690858, 0.0271115 , 0.03561945, 0.05074377,\n",
       "       0.0544743 , 0.0555982 , 0.05150489, 0.08182141, 0.03196601,\n",
       "       0.03531099, 0.02945962, 0.04878022, 0.03111382])"
      ]
     },
     "execution_count": 30,
     "metadata": {},
     "output_type": "execute_result"
    }
   ],
   "source": [
    "rf.feature_importances_"
   ]
  },
  {
   "cell_type": "code",
   "execution_count": 31,
   "metadata": {},
   "outputs": [
    {
     "name": "stdout",
     "output_type": "stream",
     "text": [
      "[ 0 13 11 10  3 12  9 17  2  4  1  5  8 15 14 18 16  7  6]\n"
     ]
    }
   ],
   "source": [
    "print(np.argsort(rf.feature_importances_)[::-1])"
   ]
  },
  {
   "cell_type": "code",
   "execution_count": 32,
   "metadata": {},
   "outputs": [
    {
     "name": "stdout",
     "output_type": "stream",
     "text": [
      "0 population\n",
      "1 pct_hs_diploma\n",
      "2 pct_bachelors\n",
      "3 pov_pct\n",
      "4 median_hh_inc\n",
      "5 unemploy_rate\n",
      "6 pct_male\n",
      "7 pct_female\n",
      "8 pct_white\n",
      "9 pct_black\n",
      "10 pct_aina\n",
      "11 pct_apia\n",
      "12 pct_hispanic\n",
      "13 pct_15_19\n",
      "14 pct_20_24\n",
      "15 pct_25_29\n",
      "16 pct_30_34\n",
      "17 pct_35_39\n",
      "18 pct_25_39\n"
     ]
    }
   ],
   "source": [
    "# Get list of variables\n",
    "for i, x in enumerate(X.columns):\n",
    "    print(i, x)"
   ]
  },
  {
   "cell_type": "markdown",
   "metadata": {},
   "source": [
    "# Projecting Feature Values - Exponential Smoothing"
   ]
  },
  {
   "cell_type": "markdown",
   "metadata": {},
   "source": [
    "Because we're rolling up multiple years, we ignore any seasonality effects.\n",
    "\n",
    "We also do not have sufficient data for each county to forecast using ARIMA. We will use exponential smoothing."
   ]
  },
  {
   "cell_type": "code",
   "execution_count": 33,
   "metadata": {},
   "outputs": [],
   "source": [
    "from statsmodels.tsa.holtwinters import ExponentialSmoothing\n",
    "from pandas import datetime"
   ]
  },
  {
   "cell_type": "code",
   "execution_count": 34,
   "metadata": {},
   "outputs": [],
   "source": [
    "def year_parser(x):\n",
    "    \"\"\"Helper function to convert year into a datetime for use in ExponentialSmoothing.\"\"\"\n",
    "    return datetime.strptime(x, '%Y')"
   ]
  },
  {
   "cell_type": "code",
   "execution_count": 35,
   "metadata": {
    "scrolled": true
   },
   "outputs": [],
   "source": [
    "import warnings\n",
    "warnings.filterwarnings('ignore')\n",
    "\n",
    "fips_codes = data['fips'].unique()\n",
    "\n",
    "projections = {}\n",
    "\n",
    "for fips in fips_codes:\n",
    "    # Go through each county's subset of data\n",
    "    subset = data.loc[data['fips'] == fips].sort_values('year')\n",
    "    projections[fips] = []\n",
    "    \n",
    "    for feature in features:\n",
    "#         print(\"Trying {0}/{1}\".format(fips, feature))\n",
    "        # Iterate through each feature to make an exponential smoothing-based projection        \n",
    "        series = subset[feature]\n",
    "        series = series.astype(np.float)  # Convert the variable to a float\n",
    "        \n",
    "        try:\n",
    "            es = ExponentialSmoothing(series, trend='mul')  # multiplicative trend        \n",
    "            es_fit = es.fit()            \n",
    "            projection = es_fit.predict(start=3, end=3)[3]\n",
    "        \n",
    "            projections[fips].append(projection)  # Build the projected values for each FIPS code\n",
    "        except ValueError:\n",
    "            # Not enough data to apply exponential smoothing, or value doesn't fit model requirements\n",
    "            # Just use latest value in this case\n",
    "            last_year = subset.sort_values('year', ascending=False).iloc[0, :]  # Sort descending by year\n",
    "            projection = subset[feature].astype(np.float).values[0]\n",
    "            \n",
    "            projections[fips].append(projection)"
   ]
  },
  {
   "cell_type": "code",
   "execution_count": 36,
   "metadata": {},
   "outputs": [
    {
     "data": {
      "text/html": [
       "<div>\n",
       "<style scoped>\n",
       "    .dataframe tbody tr th:only-of-type {\n",
       "        vertical-align: middle;\n",
       "    }\n",
       "\n",
       "    .dataframe tbody tr th {\n",
       "        vertical-align: top;\n",
       "    }\n",
       "\n",
       "    .dataframe thead th {\n",
       "        text-align: right;\n",
       "    }\n",
       "</style>\n",
       "<table border=\"1\" class=\"dataframe\">\n",
       "  <thead>\n",
       "    <tr style=\"text-align: right;\">\n",
       "      <th></th>\n",
       "      <th>population</th>\n",
       "      <th>pct_hs_diploma</th>\n",
       "      <th>pct_bachelors</th>\n",
       "      <th>pov_pct</th>\n",
       "      <th>median_hh_inc</th>\n",
       "      <th>unemploy_rate</th>\n",
       "      <th>pct_male</th>\n",
       "      <th>pct_female</th>\n",
       "      <th>pct_white</th>\n",
       "      <th>pct_black</th>\n",
       "      <th>pct_aina</th>\n",
       "      <th>pct_apia</th>\n",
       "      <th>pct_hispanic</th>\n",
       "      <th>pct_15_19</th>\n",
       "      <th>pct_20_24</th>\n",
       "      <th>pct_25_29</th>\n",
       "      <th>pct_30_34</th>\n",
       "      <th>pct_35_39</th>\n",
       "      <th>pct_25_39</th>\n",
       "    </tr>\n",
       "    <tr>\n",
       "      <th>fips</th>\n",
       "      <th></th>\n",
       "      <th></th>\n",
       "      <th></th>\n",
       "      <th></th>\n",
       "      <th></th>\n",
       "      <th></th>\n",
       "      <th></th>\n",
       "      <th></th>\n",
       "      <th></th>\n",
       "      <th></th>\n",
       "      <th></th>\n",
       "      <th></th>\n",
       "      <th></th>\n",
       "      <th></th>\n",
       "      <th></th>\n",
       "      <th></th>\n",
       "      <th></th>\n",
       "      <th></th>\n",
       "      <th></th>\n",
       "    </tr>\n",
       "  </thead>\n",
       "  <tbody>\n",
       "    <tr>\n",
       "      <th>01001</th>\n",
       "      <td>62487.964061</td>\n",
       "      <td>0.644137</td>\n",
       "      <td>0.295754</td>\n",
       "      <td>0.147686</td>\n",
       "      <td>62166.775404</td>\n",
       "      <td>0.072046</td>\n",
       "      <td>0.487918</td>\n",
       "      <td>0.512084</td>\n",
       "      <td>0.748550</td>\n",
       "      <td>0.206216</td>\n",
       "      <td>0.004578</td>\n",
       "      <td>0.018596</td>\n",
       "      <td>0.038495</td>\n",
       "      <td>0.068270</td>\n",
       "      <td>0.062426</td>\n",
       "      <td>0.067192</td>\n",
       "      <td>0.059383</td>\n",
       "      <td>0.054199</td>\n",
       "      <td>0.181153</td>\n",
       "    </tr>\n",
       "    <tr>\n",
       "      <th>01003</th>\n",
       "      <td>263646.905709</td>\n",
       "      <td>0.535423</td>\n",
       "      <td>0.353974</td>\n",
       "      <td>0.128629</td>\n",
       "      <td>58822.367963</td>\n",
       "      <td>0.066271</td>\n",
       "      <td>0.483323</td>\n",
       "      <td>0.516731</td>\n",
       "      <td>0.869766</td>\n",
       "      <td>0.085722</td>\n",
       "      <td>0.008811</td>\n",
       "      <td>0.016818</td>\n",
       "      <td>0.072883</td>\n",
       "      <td>0.056710</td>\n",
       "      <td>0.052273</td>\n",
       "      <td>0.058251</td>\n",
       "      <td>0.051667</td>\n",
       "      <td>0.050856</td>\n",
       "      <td>0.159653</td>\n",
       "    </tr>\n",
       "    <tr>\n",
       "      <th>01005</th>\n",
       "      <td>24883.773201</td>\n",
       "      <td>0.558758</td>\n",
       "      <td>0.127999</td>\n",
       "      <td>0.270294</td>\n",
       "      <td>38463.558396</td>\n",
       "      <td>0.093185</td>\n",
       "      <td>0.532725</td>\n",
       "      <td>0.467631</td>\n",
       "      <td>0.481001</td>\n",
       "      <td>0.489340</td>\n",
       "      <td>0.007124</td>\n",
       "      <td>0.005494</td>\n",
       "      <td>0.072078</td>\n",
       "      <td>0.049061</td>\n",
       "      <td>0.058967</td>\n",
       "      <td>0.073174</td>\n",
       "      <td>0.067842</td>\n",
       "      <td>0.053770</td>\n",
       "      <td>0.193800</td>\n",
       "    </tr>\n",
       "    <tr>\n",
       "      <th>01007</th>\n",
       "      <td>28876.169435</td>\n",
       "      <td>0.663828</td>\n",
       "      <td>0.456252</td>\n",
       "      <td>0.082744</td>\n",
       "      <td>82827.947327</td>\n",
       "      <td>0.030371</td>\n",
       "      <td>0.626951</td>\n",
       "      <td>0.393227</td>\n",
       "      <td>0.715840</td>\n",
       "      <td>0.247735</td>\n",
       "      <td>0.010182</td>\n",
       "      <td>0.014178</td>\n",
       "      <td>0.162634</td>\n",
       "      <td>0.039984</td>\n",
       "      <td>0.056895</td>\n",
       "      <td>0.092026</td>\n",
       "      <td>0.064890</td>\n",
       "      <td>0.056171</td>\n",
       "      <td>0.209154</td>\n",
       "    </tr>\n",
       "    <tr>\n",
       "      <th>01009</th>\n",
       "      <td>61459.435726</td>\n",
       "      <td>0.499458</td>\n",
       "      <td>0.150640</td>\n",
       "      <td>0.172490</td>\n",
       "      <td>54568.089228</td>\n",
       "      <td>0.069289</td>\n",
       "      <td>0.488832</td>\n",
       "      <td>0.511263</td>\n",
       "      <td>0.952298</td>\n",
       "      <td>0.018806</td>\n",
       "      <td>0.006705</td>\n",
       "      <td>0.003933</td>\n",
       "      <td>0.119539</td>\n",
       "      <td>0.063731</td>\n",
       "      <td>0.053697</td>\n",
       "      <td>0.058199</td>\n",
       "      <td>0.049858</td>\n",
       "      <td>0.052717</td>\n",
       "      <td>0.158397</td>\n",
       "    </tr>\n",
       "  </tbody>\n",
       "</table>\n",
       "</div>"
      ],
      "text/plain": [
       "          population  pct_hs_diploma  pct_bachelors   pov_pct  median_hh_inc  \\\n",
       "fips                                                                           \n",
       "01001   62487.964061        0.644137       0.295754  0.147686   62166.775404   \n",
       "01003  263646.905709        0.535423       0.353974  0.128629   58822.367963   \n",
       "01005   24883.773201        0.558758       0.127999  0.270294   38463.558396   \n",
       "01007   28876.169435        0.663828       0.456252  0.082744   82827.947327   \n",
       "01009   61459.435726        0.499458       0.150640  0.172490   54568.089228   \n",
       "\n",
       "       unemploy_rate  pct_male  pct_female  pct_white  pct_black  pct_aina  \\\n",
       "fips                                                                         \n",
       "01001       0.072046  0.487918    0.512084   0.748550   0.206216  0.004578   \n",
       "01003       0.066271  0.483323    0.516731   0.869766   0.085722  0.008811   \n",
       "01005       0.093185  0.532725    0.467631   0.481001   0.489340  0.007124   \n",
       "01007       0.030371  0.626951    0.393227   0.715840   0.247735  0.010182   \n",
       "01009       0.069289  0.488832    0.511263   0.952298   0.018806  0.006705   \n",
       "\n",
       "       pct_apia  pct_hispanic  pct_15_19  pct_20_24  pct_25_29  pct_30_34  \\\n",
       "fips                                                                        \n",
       "01001  0.018596      0.038495   0.068270   0.062426   0.067192   0.059383   \n",
       "01003  0.016818      0.072883   0.056710   0.052273   0.058251   0.051667   \n",
       "01005  0.005494      0.072078   0.049061   0.058967   0.073174   0.067842   \n",
       "01007  0.014178      0.162634   0.039984   0.056895   0.092026   0.064890   \n",
       "01009  0.003933      0.119539   0.063731   0.053697   0.058199   0.049858   \n",
       "\n",
       "       pct_35_39  pct_25_39  \n",
       "fips                         \n",
       "01001   0.054199   0.181153  \n",
       "01003   0.050856   0.159653  \n",
       "01005   0.053770   0.193800  \n",
       "01007   0.056171   0.209154  \n",
       "01009   0.052717   0.158397  "
      ]
     },
     "execution_count": 36,
     "metadata": {},
     "output_type": "execute_result"
    }
   ],
   "source": [
    "projections_df = pd.DataFrame.from_dict(projections, orient='index', columns=features)\n",
    "projections_df.index.name = 'fips'\n",
    "projections_df.head()"
   ]
  },
  {
   "cell_type": "markdown",
   "metadata": {},
   "source": [
    "# Generate Predicted Response Using Projections"
   ]
  },
  {
   "cell_type": "code",
   "execution_count": 37,
   "metadata": {},
   "outputs": [
    {
     "data": {
      "text/html": [
       "<div>\n",
       "<style scoped>\n",
       "    .dataframe tbody tr th:only-of-type {\n",
       "        vertical-align: middle;\n",
       "    }\n",
       "\n",
       "    .dataframe tbody tr th {\n",
       "        vertical-align: top;\n",
       "    }\n",
       "\n",
       "    .dataframe thead th {\n",
       "        text-align: right;\n",
       "    }\n",
       "</style>\n",
       "<table border=\"1\" class=\"dataframe\">\n",
       "  <thead>\n",
       "    <tr style=\"text-align: right;\">\n",
       "      <th></th>\n",
       "      <th>population</th>\n",
       "      <th>pct_hs_diploma</th>\n",
       "      <th>pct_bachelors</th>\n",
       "      <th>pov_pct</th>\n",
       "      <th>median_hh_inc</th>\n",
       "      <th>unemploy_rate</th>\n",
       "      <th>pct_male</th>\n",
       "      <th>pct_female</th>\n",
       "      <th>pct_white</th>\n",
       "      <th>pct_black</th>\n",
       "      <th>pct_aina</th>\n",
       "      <th>pct_apia</th>\n",
       "      <th>pct_hispanic</th>\n",
       "      <th>pct_15_19</th>\n",
       "      <th>pct_20_24</th>\n",
       "      <th>pct_25_29</th>\n",
       "      <th>pct_30_34</th>\n",
       "      <th>pct_35_39</th>\n",
       "      <th>pct_25_39</th>\n",
       "      <th>predicted_death_rate</th>\n",
       "    </tr>\n",
       "    <tr>\n",
       "      <th>fips</th>\n",
       "      <th></th>\n",
       "      <th></th>\n",
       "      <th></th>\n",
       "      <th></th>\n",
       "      <th></th>\n",
       "      <th></th>\n",
       "      <th></th>\n",
       "      <th></th>\n",
       "      <th></th>\n",
       "      <th></th>\n",
       "      <th></th>\n",
       "      <th></th>\n",
       "      <th></th>\n",
       "      <th></th>\n",
       "      <th></th>\n",
       "      <th></th>\n",
       "      <th></th>\n",
       "      <th></th>\n",
       "      <th></th>\n",
       "      <th></th>\n",
       "    </tr>\n",
       "  </thead>\n",
       "  <tbody>\n",
       "    <tr>\n",
       "      <th>01001</th>\n",
       "      <td>62487.964061</td>\n",
       "      <td>0.644137</td>\n",
       "      <td>0.295754</td>\n",
       "      <td>0.147686</td>\n",
       "      <td>62166.775404</td>\n",
       "      <td>0.072046</td>\n",
       "      <td>0.487918</td>\n",
       "      <td>0.512084</td>\n",
       "      <td>0.748550</td>\n",
       "      <td>0.206216</td>\n",
       "      <td>0.004578</td>\n",
       "      <td>0.018596</td>\n",
       "      <td>0.038495</td>\n",
       "      <td>0.068270</td>\n",
       "      <td>0.062426</td>\n",
       "      <td>0.067192</td>\n",
       "      <td>0.059383</td>\n",
       "      <td>0.054199</td>\n",
       "      <td>0.181153</td>\n",
       "      <td>8.063258</td>\n",
       "    </tr>\n",
       "    <tr>\n",
       "      <th>01003</th>\n",
       "      <td>263646.905709</td>\n",
       "      <td>0.535423</td>\n",
       "      <td>0.353974</td>\n",
       "      <td>0.128629</td>\n",
       "      <td>58822.367963</td>\n",
       "      <td>0.066271</td>\n",
       "      <td>0.483323</td>\n",
       "      <td>0.516731</td>\n",
       "      <td>0.869766</td>\n",
       "      <td>0.085722</td>\n",
       "      <td>0.008811</td>\n",
       "      <td>0.016818</td>\n",
       "      <td>0.072883</td>\n",
       "      <td>0.056710</td>\n",
       "      <td>0.052273</td>\n",
       "      <td>0.058251</td>\n",
       "      <td>0.051667</td>\n",
       "      <td>0.050856</td>\n",
       "      <td>0.159653</td>\n",
       "      <td>11.383112</td>\n",
       "    </tr>\n",
       "    <tr>\n",
       "      <th>01005</th>\n",
       "      <td>24883.773201</td>\n",
       "      <td>0.558758</td>\n",
       "      <td>0.127999</td>\n",
       "      <td>0.270294</td>\n",
       "      <td>38463.558396</td>\n",
       "      <td>0.093185</td>\n",
       "      <td>0.532725</td>\n",
       "      <td>0.467631</td>\n",
       "      <td>0.481001</td>\n",
       "      <td>0.489340</td>\n",
       "      <td>0.007124</td>\n",
       "      <td>0.005494</td>\n",
       "      <td>0.072078</td>\n",
       "      <td>0.049061</td>\n",
       "      <td>0.058967</td>\n",
       "      <td>0.073174</td>\n",
       "      <td>0.067842</td>\n",
       "      <td>0.053770</td>\n",
       "      <td>0.193800</td>\n",
       "      <td>3.003223</td>\n",
       "    </tr>\n",
       "    <tr>\n",
       "      <th>01007</th>\n",
       "      <td>28876.169435</td>\n",
       "      <td>0.663828</td>\n",
       "      <td>0.456252</td>\n",
       "      <td>0.082744</td>\n",
       "      <td>82827.947327</td>\n",
       "      <td>0.030371</td>\n",
       "      <td>0.626951</td>\n",
       "      <td>0.393227</td>\n",
       "      <td>0.715840</td>\n",
       "      <td>0.247735</td>\n",
       "      <td>0.010182</td>\n",
       "      <td>0.014178</td>\n",
       "      <td>0.162634</td>\n",
       "      <td>0.039984</td>\n",
       "      <td>0.056895</td>\n",
       "      <td>0.092026</td>\n",
       "      <td>0.064890</td>\n",
       "      <td>0.056171</td>\n",
       "      <td>0.209154</td>\n",
       "      <td>5.218468</td>\n",
       "    </tr>\n",
       "    <tr>\n",
       "      <th>01009</th>\n",
       "      <td>61459.435726</td>\n",
       "      <td>0.499458</td>\n",
       "      <td>0.150640</td>\n",
       "      <td>0.172490</td>\n",
       "      <td>54568.089228</td>\n",
       "      <td>0.069289</td>\n",
       "      <td>0.488832</td>\n",
       "      <td>0.511263</td>\n",
       "      <td>0.952298</td>\n",
       "      <td>0.018806</td>\n",
       "      <td>0.006705</td>\n",
       "      <td>0.003933</td>\n",
       "      <td>0.119539</td>\n",
       "      <td>0.063731</td>\n",
       "      <td>0.053697</td>\n",
       "      <td>0.058199</td>\n",
       "      <td>0.049858</td>\n",
       "      <td>0.052717</td>\n",
       "      <td>0.158397</td>\n",
       "      <td>11.270102</td>\n",
       "    </tr>\n",
       "  </tbody>\n",
       "</table>\n",
       "</div>"
      ],
      "text/plain": [
       "          population  pct_hs_diploma  pct_bachelors   pov_pct  median_hh_inc  \\\n",
       "fips                                                                           \n",
       "01001   62487.964061        0.644137       0.295754  0.147686   62166.775404   \n",
       "01003  263646.905709        0.535423       0.353974  0.128629   58822.367963   \n",
       "01005   24883.773201        0.558758       0.127999  0.270294   38463.558396   \n",
       "01007   28876.169435        0.663828       0.456252  0.082744   82827.947327   \n",
       "01009   61459.435726        0.499458       0.150640  0.172490   54568.089228   \n",
       "\n",
       "       unemploy_rate  pct_male  pct_female  pct_white  pct_black  pct_aina  \\\n",
       "fips                                                                         \n",
       "01001       0.072046  0.487918    0.512084   0.748550   0.206216  0.004578   \n",
       "01003       0.066271  0.483323    0.516731   0.869766   0.085722  0.008811   \n",
       "01005       0.093185  0.532725    0.467631   0.481001   0.489340  0.007124   \n",
       "01007       0.030371  0.626951    0.393227   0.715840   0.247735  0.010182   \n",
       "01009       0.069289  0.488832    0.511263   0.952298   0.018806  0.006705   \n",
       "\n",
       "       pct_apia  pct_hispanic  pct_15_19  pct_20_24  pct_25_29  pct_30_34  \\\n",
       "fips                                                                        \n",
       "01001  0.018596      0.038495   0.068270   0.062426   0.067192   0.059383   \n",
       "01003  0.016818      0.072883   0.056710   0.052273   0.058251   0.051667   \n",
       "01005  0.005494      0.072078   0.049061   0.058967   0.073174   0.067842   \n",
       "01007  0.014178      0.162634   0.039984   0.056895   0.092026   0.064890   \n",
       "01009  0.003933      0.119539   0.063731   0.053697   0.058199   0.049858   \n",
       "\n",
       "       pct_35_39  pct_25_39  predicted_death_rate  \n",
       "fips                                               \n",
       "01001   0.054199   0.181153              8.063258  \n",
       "01003   0.050856   0.159653             11.383112  \n",
       "01005   0.053770   0.193800              3.003223  \n",
       "01007   0.056171   0.209154              5.218468  \n",
       "01009   0.052717   0.158397             11.270102  "
      ]
     },
     "execution_count": 37,
     "metadata": {},
     "output_type": "execute_result"
    }
   ],
   "source": [
    "prediction_col_name = \"predicted_\" + response_var\n",
    "projections_df[prediction_col_name] = rf.predict(projections_df)\n",
    "projections_df.head()"
   ]
  },
  {
   "cell_type": "code",
   "execution_count": 38,
   "metadata": {},
   "outputs": [],
   "source": [
    "projections_df.to_csv(prediction_col_name + \".csv\")"
   ]
  },
  {
   "cell_type": "markdown",
   "metadata": {},
   "source": [
    "# Further Exploration"
   ]
  },
  {
   "cell_type": "code",
   "execution_count": 39,
   "metadata": {},
   "outputs": [
    {
     "data": {
      "text/html": [
       "<div>\n",
       "<style scoped>\n",
       "    .dataframe tbody tr th:only-of-type {\n",
       "        vertical-align: middle;\n",
       "    }\n",
       "\n",
       "    .dataframe tbody tr th {\n",
       "        vertical-align: top;\n",
       "    }\n",
       "\n",
       "    .dataframe thead th {\n",
       "        text-align: right;\n",
       "    }\n",
       "</style>\n",
       "<table border=\"1\" class=\"dataframe\">\n",
       "  <thead>\n",
       "    <tr style=\"text-align: right;\">\n",
       "      <th></th>\n",
       "      <th>year</th>\n",
       "      <th>death_rate</th>\n",
       "    </tr>\n",
       "  </thead>\n",
       "  <tbody>\n",
       "    <tr>\n",
       "      <th>0</th>\n",
       "      <td>2000</td>\n",
       "      <td>0.000000</td>\n",
       "    </tr>\n",
       "    <tr>\n",
       "      <th>1</th>\n",
       "      <td>2010</td>\n",
       "      <td>0.304392</td>\n",
       "    </tr>\n",
       "    <tr>\n",
       "      <th>2</th>\n",
       "      <td>2017</td>\n",
       "      <td>0.300609</td>\n",
       "    </tr>\n",
       "  </tbody>\n",
       "</table>\n",
       "</div>"
      ],
      "text/plain": [
       "   year  death_rate\n",
       "0  2000    0.000000\n",
       "1  2010    0.304392\n",
       "2  2017    0.300609"
      ]
     },
     "execution_count": 39,
     "metadata": {},
     "output_type": "execute_result"
    }
   ],
   "source": [
    "data.loc[data['fips'] == '01001'].loc[:, ['year', response_var]]"
   ]
  }
 ],
 "metadata": {
  "kernelspec": {
   "display_name": "Python 3",
   "language": "python",
   "name": "python3"
  },
  "language_info": {
   "codemirror_mode": {
    "name": "ipython",
    "version": 3
   },
   "file_extension": ".py",
   "mimetype": "text/x-python",
   "name": "python",
   "nbconvert_exporter": "python",
   "pygments_lexer": "ipython3",
   "version": "3.7.3"
  },
  "toc": {
   "base_numbering": 1,
   "nav_menu": {},
   "number_sections": false,
   "sideBar": false,
   "skip_h1_title": false,
   "title_cell": "Table of Contents",
   "title_sidebar": "Contents",
   "toc_cell": true,
   "toc_position": {},
   "toc_section_display": true,
   "toc_window_display": false
  }
 },
 "nbformat": 4,
 "nbformat_minor": 2
}
